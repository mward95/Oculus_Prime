{
 "cells": [
  {
   "cell_type": "code",
   "execution_count": 1,
   "metadata": {
    "id": "TStE2oxBSqhM"
   },
   "outputs": [],
   "source": [
    "import matplotlib.pyplot as plt\n",
    "import pandas as pd\n",
    "from pathlib import Path\n",
    "from sklearn.model_selection import train_test_split\n",
    "from sklearn.neighbors import KNeighborsClassifier\n",
    "from sklearn.preprocessing import StandardScaler\n",
    "from sklearn.decomposition import PCA\n",
    "from sklearn.cluster import KMeans\n",
    "import matplotlib.pyplot as plt\n",
    "%matplotlib inline\n",
    "import numpy as np\n",
    "from sklearn.datasets import make_classification\n",
    "from sklearn.ensemble import RandomForestClassifier\n",
    "from sklearn.linear_model import LogisticRegression\n",
    "from sklearn.datasets import make_regression, make_swiss_roll\n",
    "from sklearn.linear_model import LinearRegression, Ridge, Lasso, ElasticNet\n",
    "from sklearn.model_selection import train_test_split\n",
    "from sklearn.metrics import classification_report, confusion_matrix"
   ]
  },
  {
   "cell_type": "markdown",
   "metadata": {
    "id": "oanOoTQoTLgQ"
   },
   "source": [
    "MACHINE LEARNING"
   ]
  },
  {
   "cell_type": "markdown",
   "metadata": {
    "id": "KvbSnEIvTICY"
   },
   "source": [
    "I - SUPERVISED LEARNING"
   ]
  },
  {
   "cell_type": "code",
   "execution_count": 2,
   "metadata": {
    "colab": {
     "base_uri": "https://localhost:8080/",
     "height": 206
    },
    "id": "MHnrw25JTKv1",
    "outputId": "daff27a9-6cba-451a-a282-711e03fb3c97"
   },
   "outputs": [
    {
     "data": {
      "text/html": [
       "<div>\n",
       "<style scoped>\n",
       "    .dataframe tbody tr th:only-of-type {\n",
       "        vertical-align: middle;\n",
       "    }\n",
       "\n",
       "    .dataframe tbody tr th {\n",
       "        vertical-align: top;\n",
       "    }\n",
       "\n",
       "    .dataframe thead th {\n",
       "        text-align: right;\n",
       "    }\n",
       "</style>\n",
       "<table border=\"1\" class=\"dataframe\">\n",
       "  <thead>\n",
       "    <tr style=\"text-align: right;\">\n",
       "      <th></th>\n",
       "      <th>ID</th>\n",
       "      <th>STUDYYEAR</th>\n",
       "      <th>MYOPIC</th>\n",
       "      <th>AGE</th>\n",
       "      <th>GENDER</th>\n",
       "      <th>SPHEQ</th>\n",
       "      <th>AL</th>\n",
       "      <th>ACD</th>\n",
       "      <th>LT</th>\n",
       "      <th>VCD</th>\n",
       "      <th>SPORTHR</th>\n",
       "      <th>READHR</th>\n",
       "      <th>COMPHR</th>\n",
       "      <th>STUDYHR</th>\n",
       "      <th>TVHR</th>\n",
       "      <th>DIOPTERHR</th>\n",
       "      <th>MOMMY</th>\n",
       "      <th>DADMY</th>\n",
       "    </tr>\n",
       "  </thead>\n",
       "  <tbody>\n",
       "    <tr>\n",
       "      <th>0</th>\n",
       "      <td>1</td>\n",
       "      <td>1992</td>\n",
       "      <td>1</td>\n",
       "      <td>6</td>\n",
       "      <td>1</td>\n",
       "      <td>-0.052</td>\n",
       "      <td>21.89</td>\n",
       "      <td>3.690</td>\n",
       "      <td>3.498</td>\n",
       "      <td>14.70</td>\n",
       "      <td>45</td>\n",
       "      <td>8</td>\n",
       "      <td>0</td>\n",
       "      <td>0</td>\n",
       "      <td>10</td>\n",
       "      <td>34</td>\n",
       "      <td>1</td>\n",
       "      <td>1</td>\n",
       "    </tr>\n",
       "    <tr>\n",
       "      <th>1</th>\n",
       "      <td>2</td>\n",
       "      <td>1995</td>\n",
       "      <td>0</td>\n",
       "      <td>6</td>\n",
       "      <td>1</td>\n",
       "      <td>0.608</td>\n",
       "      <td>22.38</td>\n",
       "      <td>3.702</td>\n",
       "      <td>3.392</td>\n",
       "      <td>15.29</td>\n",
       "      <td>4</td>\n",
       "      <td>0</td>\n",
       "      <td>1</td>\n",
       "      <td>1</td>\n",
       "      <td>7</td>\n",
       "      <td>12</td>\n",
       "      <td>1</td>\n",
       "      <td>1</td>\n",
       "    </tr>\n",
       "    <tr>\n",
       "      <th>2</th>\n",
       "      <td>3</td>\n",
       "      <td>1991</td>\n",
       "      <td>0</td>\n",
       "      <td>6</td>\n",
       "      <td>1</td>\n",
       "      <td>1.179</td>\n",
       "      <td>22.49</td>\n",
       "      <td>3.462</td>\n",
       "      <td>3.514</td>\n",
       "      <td>15.52</td>\n",
       "      <td>14</td>\n",
       "      <td>0</td>\n",
       "      <td>2</td>\n",
       "      <td>0</td>\n",
       "      <td>10</td>\n",
       "      <td>14</td>\n",
       "      <td>0</td>\n",
       "      <td>0</td>\n",
       "    </tr>\n",
       "    <tr>\n",
       "      <th>3</th>\n",
       "      <td>4</td>\n",
       "      <td>1990</td>\n",
       "      <td>1</td>\n",
       "      <td>6</td>\n",
       "      <td>1</td>\n",
       "      <td>0.525</td>\n",
       "      <td>22.20</td>\n",
       "      <td>3.862</td>\n",
       "      <td>3.612</td>\n",
       "      <td>14.73</td>\n",
       "      <td>18</td>\n",
       "      <td>11</td>\n",
       "      <td>0</td>\n",
       "      <td>0</td>\n",
       "      <td>4</td>\n",
       "      <td>37</td>\n",
       "      <td>0</td>\n",
       "      <td>1</td>\n",
       "    </tr>\n",
       "    <tr>\n",
       "      <th>4</th>\n",
       "      <td>5</td>\n",
       "      <td>1995</td>\n",
       "      <td>0</td>\n",
       "      <td>5</td>\n",
       "      <td>0</td>\n",
       "      <td>0.697</td>\n",
       "      <td>23.29</td>\n",
       "      <td>3.676</td>\n",
       "      <td>3.454</td>\n",
       "      <td>16.16</td>\n",
       "      <td>14</td>\n",
       "      <td>0</td>\n",
       "      <td>0</td>\n",
       "      <td>0</td>\n",
       "      <td>4</td>\n",
       "      <td>4</td>\n",
       "      <td>1</td>\n",
       "      <td>0</td>\n",
       "    </tr>\n",
       "  </tbody>\n",
       "</table>\n",
       "</div>"
      ],
      "text/plain": [
       "   ID  STUDYYEAR  MYOPIC  AGE  GENDER  SPHEQ     AL    ACD     LT    VCD  \\\n",
       "0   1       1992       1    6       1 -0.052  21.89  3.690  3.498  14.70   \n",
       "1   2       1995       0    6       1  0.608  22.38  3.702  3.392  15.29   \n",
       "2   3       1991       0    6       1  1.179  22.49  3.462  3.514  15.52   \n",
       "3   4       1990       1    6       1  0.525  22.20  3.862  3.612  14.73   \n",
       "4   5       1995       0    5       0  0.697  23.29  3.676  3.454  16.16   \n",
       "\n",
       "   SPORTHR  READHR  COMPHR  STUDYHR  TVHR  DIOPTERHR  MOMMY  DADMY  \n",
       "0       45       8       0        0    10         34      1      1  \n",
       "1        4       0       1        1     7         12      1      1  \n",
       "2       14       0       2        0    10         14      0      0  \n",
       "3       18      11       0        0     4         37      0      1  \n",
       "4       14       0       0        0     4          4      1      0  "
      ]
     },
     "execution_count": 2,
     "metadata": {},
     "output_type": "execute_result"
    }
   ],
   "source": [
    "# Import the data\n",
    "# file_path = Path(\"/content/Copy_of_myopia.csv\")\n",
    "url = 'https://raw.githubusercontent.com/mward95/project_4/main/data/Copy_of_myopia.csv'\n",
    "df = pd.read_csv(url)\n",
    "df.head()"
   ]
  },
  {
   "cell_type": "code",
   "execution_count": 3,
   "metadata": {
    "id": "eMABVlHujg0y"
   },
   "outputs": [],
   "source": [
    "import seaborn as sns"
   ]
  },
  {
   "cell_type": "code",
   "execution_count": 4,
   "metadata": {
    "colab": {
     "base_uri": "https://localhost:8080/",
     "height": 678
    },
    "id": "r-bXRTfwjuiH",
    "outputId": "6fe93a54-fa0d-4c27-f45f-5637223bfe63"
   },
   "outputs": [
    {
     "data": {
      "text/html": [
       "<div>\n",
       "<style scoped>\n",
       "    .dataframe tbody tr th:only-of-type {\n",
       "        vertical-align: middle;\n",
       "    }\n",
       "\n",
       "    .dataframe tbody tr th {\n",
       "        vertical-align: top;\n",
       "    }\n",
       "\n",
       "    .dataframe thead th {\n",
       "        text-align: right;\n",
       "    }\n",
       "</style>\n",
       "<table border=\"1\" class=\"dataframe\">\n",
       "  <thead>\n",
       "    <tr style=\"text-align: right;\">\n",
       "      <th></th>\n",
       "      <th>ID</th>\n",
       "      <th>STUDYYEAR</th>\n",
       "      <th>MYOPIC</th>\n",
       "      <th>AGE</th>\n",
       "      <th>GENDER</th>\n",
       "      <th>SPHEQ</th>\n",
       "      <th>AL</th>\n",
       "      <th>ACD</th>\n",
       "      <th>LT</th>\n",
       "      <th>VCD</th>\n",
       "      <th>SPORTHR</th>\n",
       "      <th>READHR</th>\n",
       "      <th>COMPHR</th>\n",
       "      <th>STUDYHR</th>\n",
       "      <th>TVHR</th>\n",
       "      <th>DIOPTERHR</th>\n",
       "      <th>MOMMY</th>\n",
       "      <th>DADMY</th>\n",
       "    </tr>\n",
       "  </thead>\n",
       "  <tbody>\n",
       "    <tr>\n",
       "      <th>ID</th>\n",
       "      <td>1.000000</td>\n",
       "      <td>-0.058385</td>\n",
       "      <td>0.012242</td>\n",
       "      <td>0.030029</td>\n",
       "      <td>-0.009072</td>\n",
       "      <td>0.050831</td>\n",
       "      <td>-0.080880</td>\n",
       "      <td>-0.018525</td>\n",
       "      <td>0.055831</td>\n",
       "      <td>-0.089469</td>\n",
       "      <td>0.054532</td>\n",
       "      <td>0.051438</td>\n",
       "      <td>0.045723</td>\n",
       "      <td>0.045283</td>\n",
       "      <td>-0.007511</td>\n",
       "      <td>0.063068</td>\n",
       "      <td>0.099317</td>\n",
       "      <td>-0.014204</td>\n",
       "    </tr>\n",
       "    <tr>\n",
       "      <th>STUDYYEAR</th>\n",
       "      <td>-0.058385</td>\n",
       "      <td>1.000000</td>\n",
       "      <td>0.016331</td>\n",
       "      <td>-0.439659</td>\n",
       "      <td>0.049524</td>\n",
       "      <td>0.082645</td>\n",
       "      <td>-0.138326</td>\n",
       "      <td>-0.087708</td>\n",
       "      <td>0.108677</td>\n",
       "      <td>-0.136459</td>\n",
       "      <td>-0.262745</td>\n",
       "      <td>-0.154631</td>\n",
       "      <td>-0.045047</td>\n",
       "      <td>-0.282425</td>\n",
       "      <td>-0.186834</td>\n",
       "      <td>-0.289733</td>\n",
       "      <td>0.032799</td>\n",
       "      <td>0.038017</td>\n",
       "    </tr>\n",
       "    <tr>\n",
       "      <th>MYOPIC</th>\n",
       "      <td>0.012242</td>\n",
       "      <td>0.016331</td>\n",
       "      <td>1.000000</td>\n",
       "      <td>0.018526</td>\n",
       "      <td>0.061557</td>\n",
       "      <td>-0.373639</td>\n",
       "      <td>0.037752</td>\n",
       "      <td>0.107953</td>\n",
       "      <td>-0.045704</td>\n",
       "      <td>0.011855</td>\n",
       "      <td>-0.098282</td>\n",
       "      <td>0.072749</td>\n",
       "      <td>0.025874</td>\n",
       "      <td>-0.031859</td>\n",
       "      <td>-0.004032</td>\n",
       "      <td>0.036984</td>\n",
       "      <td>0.134033</td>\n",
       "      <td>0.149896</td>\n",
       "    </tr>\n",
       "    <tr>\n",
       "      <th>AGE</th>\n",
       "      <td>0.030029</td>\n",
       "      <td>-0.439659</td>\n",
       "      <td>0.018526</td>\n",
       "      <td>1.000000</td>\n",
       "      <td>-0.088176</td>\n",
       "      <td>-0.118255</td>\n",
       "      <td>0.220784</td>\n",
       "      <td>0.191849</td>\n",
       "      <td>-0.185531</td>\n",
       "      <td>0.202472</td>\n",
       "      <td>0.057538</td>\n",
       "      <td>0.130194</td>\n",
       "      <td>0.056929</td>\n",
       "      <td>0.399324</td>\n",
       "      <td>0.069395</td>\n",
       "      <td>0.286820</td>\n",
       "      <td>-0.039515</td>\n",
       "      <td>-0.055427</td>\n",
       "    </tr>\n",
       "    <tr>\n",
       "      <th>GENDER</th>\n",
       "      <td>-0.009072</td>\n",
       "      <td>0.049524</td>\n",
       "      <td>0.061557</td>\n",
       "      <td>-0.088176</td>\n",
       "      <td>1.000000</td>\n",
       "      <td>0.032448</td>\n",
       "      <td>-0.338276</td>\n",
       "      <td>-0.253011</td>\n",
       "      <td>0.074874</td>\n",
       "      <td>-0.276262</td>\n",
       "      <td>-0.103200</td>\n",
       "      <td>0.086133</td>\n",
       "      <td>-0.255194</td>\n",
       "      <td>0.024752</td>\n",
       "      <td>-0.028529</td>\n",
       "      <td>-0.047767</td>\n",
       "      <td>-0.025605</td>\n",
       "      <td>-0.009785</td>\n",
       "    </tr>\n",
       "    <tr>\n",
       "      <th>SPHEQ</th>\n",
       "      <td>0.050831</td>\n",
       "      <td>0.082645</td>\n",
       "      <td>-0.373639</td>\n",
       "      <td>-0.118255</td>\n",
       "      <td>0.032448</td>\n",
       "      <td>1.000000</td>\n",
       "      <td>-0.305512</td>\n",
       "      <td>-0.238784</td>\n",
       "      <td>0.072699</td>\n",
       "      <td>-0.247130</td>\n",
       "      <td>-0.022468</td>\n",
       "      <td>-0.099501</td>\n",
       "      <td>-0.031088</td>\n",
       "      <td>-0.054873</td>\n",
       "      <td>-0.080934</td>\n",
       "      <td>-0.120611</td>\n",
       "      <td>-0.131860</td>\n",
       "      <td>-0.140113</td>\n",
       "    </tr>\n",
       "    <tr>\n",
       "      <th>AL</th>\n",
       "      <td>-0.080880</td>\n",
       "      <td>-0.138326</td>\n",
       "      <td>0.037752</td>\n",
       "      <td>0.220784</td>\n",
       "      <td>-0.338276</td>\n",
       "      <td>-0.305512</td>\n",
       "      <td>1.000000</td>\n",
       "      <td>0.456296</td>\n",
       "      <td>-0.328939</td>\n",
       "      <td>0.941916</td>\n",
       "      <td>0.112004</td>\n",
       "      <td>0.017944</td>\n",
       "      <td>0.086328</td>\n",
       "      <td>0.098326</td>\n",
       "      <td>0.077170</td>\n",
       "      <td>0.111527</td>\n",
       "      <td>0.046948</td>\n",
       "      <td>-0.010278</td>\n",
       "    </tr>\n",
       "    <tr>\n",
       "      <th>ACD</th>\n",
       "      <td>-0.018525</td>\n",
       "      <td>-0.087708</td>\n",
       "      <td>0.107953</td>\n",
       "      <td>0.191849</td>\n",
       "      <td>-0.253011</td>\n",
       "      <td>-0.238784</td>\n",
       "      <td>0.456296</td>\n",
       "      <td>1.000000</td>\n",
       "      <td>-0.339291</td>\n",
       "      <td>0.199447</td>\n",
       "      <td>0.075161</td>\n",
       "      <td>0.011481</td>\n",
       "      <td>0.071666</td>\n",
       "      <td>0.051826</td>\n",
       "      <td>-0.042761</td>\n",
       "      <td>0.040157</td>\n",
       "      <td>0.115974</td>\n",
       "      <td>0.053746</td>\n",
       "    </tr>\n",
       "    <tr>\n",
       "      <th>LT</th>\n",
       "      <td>0.055831</td>\n",
       "      <td>0.108677</td>\n",
       "      <td>-0.045704</td>\n",
       "      <td>-0.185531</td>\n",
       "      <td>0.074874</td>\n",
       "      <td>0.072699</td>\n",
       "      <td>-0.328939</td>\n",
       "      <td>-0.339291</td>\n",
       "      <td>1.000000</td>\n",
       "      <td>-0.451594</td>\n",
       "      <td>-0.032745</td>\n",
       "      <td>0.018481</td>\n",
       "      <td>-0.025344</td>\n",
       "      <td>-0.037580</td>\n",
       "      <td>0.049095</td>\n",
       "      <td>0.002875</td>\n",
       "      <td>-0.011127</td>\n",
       "      <td>-0.015586</td>\n",
       "    </tr>\n",
       "    <tr>\n",
       "      <th>VCD</th>\n",
       "      <td>-0.089469</td>\n",
       "      <td>-0.136459</td>\n",
       "      <td>0.011855</td>\n",
       "      <td>0.202472</td>\n",
       "      <td>-0.276262</td>\n",
       "      <td>-0.247130</td>\n",
       "      <td>0.941916</td>\n",
       "      <td>0.199447</td>\n",
       "      <td>-0.451594</td>\n",
       "      <td>1.000000</td>\n",
       "      <td>0.096235</td>\n",
       "      <td>0.010120</td>\n",
       "      <td>0.069369</td>\n",
       "      <td>0.091759</td>\n",
       "      <td>0.082579</td>\n",
       "      <td>0.099774</td>\n",
       "      <td>0.009987</td>\n",
       "      <td>-0.025398</td>\n",
       "    </tr>\n",
       "    <tr>\n",
       "      <th>SPORTHR</th>\n",
       "      <td>0.054532</td>\n",
       "      <td>-0.262745</td>\n",
       "      <td>-0.098282</td>\n",
       "      <td>0.057538</td>\n",
       "      <td>-0.103200</td>\n",
       "      <td>-0.022468</td>\n",
       "      <td>0.112004</td>\n",
       "      <td>0.075161</td>\n",
       "      <td>-0.032745</td>\n",
       "      <td>0.096235</td>\n",
       "      <td>1.000000</td>\n",
       "      <td>0.131597</td>\n",
       "      <td>0.010185</td>\n",
       "      <td>0.115844</td>\n",
       "      <td>0.173470</td>\n",
       "      <td>0.189365</td>\n",
       "      <td>-0.065167</td>\n",
       "      <td>0.002623</td>\n",
       "    </tr>\n",
       "    <tr>\n",
       "      <th>READHR</th>\n",
       "      <td>0.051438</td>\n",
       "      <td>-0.154631</td>\n",
       "      <td>0.072749</td>\n",
       "      <td>0.130194</td>\n",
       "      <td>0.086133</td>\n",
       "      <td>-0.099501</td>\n",
       "      <td>0.017944</td>\n",
       "      <td>0.011481</td>\n",
       "      <td>0.018481</td>\n",
       "      <td>0.010120</td>\n",
       "      <td>0.131597</td>\n",
       "      <td>1.000000</td>\n",
       "      <td>0.035300</td>\n",
       "      <td>0.262374</td>\n",
       "      <td>0.003092</td>\n",
       "      <td>0.697522</td>\n",
       "      <td>-0.040312</td>\n",
       "      <td>0.010341</td>\n",
       "    </tr>\n",
       "    <tr>\n",
       "      <th>COMPHR</th>\n",
       "      <td>0.045723</td>\n",
       "      <td>-0.045047</td>\n",
       "      <td>0.025874</td>\n",
       "      <td>0.056929</td>\n",
       "      <td>-0.255194</td>\n",
       "      <td>-0.031088</td>\n",
       "      <td>0.086328</td>\n",
       "      <td>0.071666</td>\n",
       "      <td>-0.025344</td>\n",
       "      <td>0.069369</td>\n",
       "      <td>0.010185</td>\n",
       "      <td>0.035300</td>\n",
       "      <td>1.000000</td>\n",
       "      <td>0.114161</td>\n",
       "      <td>0.129655</td>\n",
       "      <td>0.495171</td>\n",
       "      <td>0.036116</td>\n",
       "      <td>0.023954</td>\n",
       "    </tr>\n",
       "    <tr>\n",
       "      <th>STUDYHR</th>\n",
       "      <td>0.045283</td>\n",
       "      <td>-0.282425</td>\n",
       "      <td>-0.031859</td>\n",
       "      <td>0.399324</td>\n",
       "      <td>0.024752</td>\n",
       "      <td>-0.054873</td>\n",
       "      <td>0.098326</td>\n",
       "      <td>0.051826</td>\n",
       "      <td>-0.037580</td>\n",
       "      <td>0.091759</td>\n",
       "      <td>0.115844</td>\n",
       "      <td>0.262374</td>\n",
       "      <td>0.114161</td>\n",
       "      <td>1.000000</td>\n",
       "      <td>0.042798</td>\n",
       "      <td>0.624156</td>\n",
       "      <td>-0.040136</td>\n",
       "      <td>-0.008783</td>\n",
       "    </tr>\n",
       "    <tr>\n",
       "      <th>TVHR</th>\n",
       "      <td>-0.007511</td>\n",
       "      <td>-0.186834</td>\n",
       "      <td>-0.004032</td>\n",
       "      <td>0.069395</td>\n",
       "      <td>-0.028529</td>\n",
       "      <td>-0.080934</td>\n",
       "      <td>0.077170</td>\n",
       "      <td>-0.042761</td>\n",
       "      <td>0.049095</td>\n",
       "      <td>0.082579</td>\n",
       "      <td>0.173470</td>\n",
       "      <td>0.003092</td>\n",
       "      <td>0.129655</td>\n",
       "      <td>0.042798</td>\n",
       "      <td>1.000000</td>\n",
       "      <td>0.425694</td>\n",
       "      <td>0.009746</td>\n",
       "      <td>-0.019285</td>\n",
       "    </tr>\n",
       "    <tr>\n",
       "      <th>DIOPTERHR</th>\n",
       "      <td>0.063068</td>\n",
       "      <td>-0.289733</td>\n",
       "      <td>0.036984</td>\n",
       "      <td>0.286820</td>\n",
       "      <td>-0.047767</td>\n",
       "      <td>-0.120611</td>\n",
       "      <td>0.111527</td>\n",
       "      <td>0.040157</td>\n",
       "      <td>0.002875</td>\n",
       "      <td>0.099774</td>\n",
       "      <td>0.189365</td>\n",
       "      <td>0.697522</td>\n",
       "      <td>0.495171</td>\n",
       "      <td>0.624156</td>\n",
       "      <td>0.425694</td>\n",
       "      <td>1.000000</td>\n",
       "      <td>-0.022542</td>\n",
       "      <td>0.004549</td>\n",
       "    </tr>\n",
       "    <tr>\n",
       "      <th>MOMMY</th>\n",
       "      <td>0.099317</td>\n",
       "      <td>0.032799</td>\n",
       "      <td>0.134033</td>\n",
       "      <td>-0.039515</td>\n",
       "      <td>-0.025605</td>\n",
       "      <td>-0.131860</td>\n",
       "      <td>0.046948</td>\n",
       "      <td>0.115974</td>\n",
       "      <td>-0.011127</td>\n",
       "      <td>0.009987</td>\n",
       "      <td>-0.065167</td>\n",
       "      <td>-0.040312</td>\n",
       "      <td>0.036116</td>\n",
       "      <td>-0.040136</td>\n",
       "      <td>0.009746</td>\n",
       "      <td>-0.022542</td>\n",
       "      <td>1.000000</td>\n",
       "      <td>-0.006431</td>\n",
       "    </tr>\n",
       "    <tr>\n",
       "      <th>DADMY</th>\n",
       "      <td>-0.014204</td>\n",
       "      <td>0.038017</td>\n",
       "      <td>0.149896</td>\n",
       "      <td>-0.055427</td>\n",
       "      <td>-0.009785</td>\n",
       "      <td>-0.140113</td>\n",
       "      <td>-0.010278</td>\n",
       "      <td>0.053746</td>\n",
       "      <td>-0.015586</td>\n",
       "      <td>-0.025398</td>\n",
       "      <td>0.002623</td>\n",
       "      <td>0.010341</td>\n",
       "      <td>0.023954</td>\n",
       "      <td>-0.008783</td>\n",
       "      <td>-0.019285</td>\n",
       "      <td>0.004549</td>\n",
       "      <td>-0.006431</td>\n",
       "      <td>1.000000</td>\n",
       "    </tr>\n",
       "  </tbody>\n",
       "</table>\n",
       "</div>"
      ],
      "text/plain": [
       "                 ID  STUDYYEAR    MYOPIC       AGE    GENDER     SPHEQ  \\\n",
       "ID         1.000000  -0.058385  0.012242  0.030029 -0.009072  0.050831   \n",
       "STUDYYEAR -0.058385   1.000000  0.016331 -0.439659  0.049524  0.082645   \n",
       "MYOPIC     0.012242   0.016331  1.000000  0.018526  0.061557 -0.373639   \n",
       "AGE        0.030029  -0.439659  0.018526  1.000000 -0.088176 -0.118255   \n",
       "GENDER    -0.009072   0.049524  0.061557 -0.088176  1.000000  0.032448   \n",
       "SPHEQ      0.050831   0.082645 -0.373639 -0.118255  0.032448  1.000000   \n",
       "AL        -0.080880  -0.138326  0.037752  0.220784 -0.338276 -0.305512   \n",
       "ACD       -0.018525  -0.087708  0.107953  0.191849 -0.253011 -0.238784   \n",
       "LT         0.055831   0.108677 -0.045704 -0.185531  0.074874  0.072699   \n",
       "VCD       -0.089469  -0.136459  0.011855  0.202472 -0.276262 -0.247130   \n",
       "SPORTHR    0.054532  -0.262745 -0.098282  0.057538 -0.103200 -0.022468   \n",
       "READHR     0.051438  -0.154631  0.072749  0.130194  0.086133 -0.099501   \n",
       "COMPHR     0.045723  -0.045047  0.025874  0.056929 -0.255194 -0.031088   \n",
       "STUDYHR    0.045283  -0.282425 -0.031859  0.399324  0.024752 -0.054873   \n",
       "TVHR      -0.007511  -0.186834 -0.004032  0.069395 -0.028529 -0.080934   \n",
       "DIOPTERHR  0.063068  -0.289733  0.036984  0.286820 -0.047767 -0.120611   \n",
       "MOMMY      0.099317   0.032799  0.134033 -0.039515 -0.025605 -0.131860   \n",
       "DADMY     -0.014204   0.038017  0.149896 -0.055427 -0.009785 -0.140113   \n",
       "\n",
       "                 AL       ACD        LT       VCD   SPORTHR    READHR  \\\n",
       "ID        -0.080880 -0.018525  0.055831 -0.089469  0.054532  0.051438   \n",
       "STUDYYEAR -0.138326 -0.087708  0.108677 -0.136459 -0.262745 -0.154631   \n",
       "MYOPIC     0.037752  0.107953 -0.045704  0.011855 -0.098282  0.072749   \n",
       "AGE        0.220784  0.191849 -0.185531  0.202472  0.057538  0.130194   \n",
       "GENDER    -0.338276 -0.253011  0.074874 -0.276262 -0.103200  0.086133   \n",
       "SPHEQ     -0.305512 -0.238784  0.072699 -0.247130 -0.022468 -0.099501   \n",
       "AL         1.000000  0.456296 -0.328939  0.941916  0.112004  0.017944   \n",
       "ACD        0.456296  1.000000 -0.339291  0.199447  0.075161  0.011481   \n",
       "LT        -0.328939 -0.339291  1.000000 -0.451594 -0.032745  0.018481   \n",
       "VCD        0.941916  0.199447 -0.451594  1.000000  0.096235  0.010120   \n",
       "SPORTHR    0.112004  0.075161 -0.032745  0.096235  1.000000  0.131597   \n",
       "READHR     0.017944  0.011481  0.018481  0.010120  0.131597  1.000000   \n",
       "COMPHR     0.086328  0.071666 -0.025344  0.069369  0.010185  0.035300   \n",
       "STUDYHR    0.098326  0.051826 -0.037580  0.091759  0.115844  0.262374   \n",
       "TVHR       0.077170 -0.042761  0.049095  0.082579  0.173470  0.003092   \n",
       "DIOPTERHR  0.111527  0.040157  0.002875  0.099774  0.189365  0.697522   \n",
       "MOMMY      0.046948  0.115974 -0.011127  0.009987 -0.065167 -0.040312   \n",
       "DADMY     -0.010278  0.053746 -0.015586 -0.025398  0.002623  0.010341   \n",
       "\n",
       "             COMPHR   STUDYHR      TVHR  DIOPTERHR     MOMMY     DADMY  \n",
       "ID         0.045723  0.045283 -0.007511   0.063068  0.099317 -0.014204  \n",
       "STUDYYEAR -0.045047 -0.282425 -0.186834  -0.289733  0.032799  0.038017  \n",
       "MYOPIC     0.025874 -0.031859 -0.004032   0.036984  0.134033  0.149896  \n",
       "AGE        0.056929  0.399324  0.069395   0.286820 -0.039515 -0.055427  \n",
       "GENDER    -0.255194  0.024752 -0.028529  -0.047767 -0.025605 -0.009785  \n",
       "SPHEQ     -0.031088 -0.054873 -0.080934  -0.120611 -0.131860 -0.140113  \n",
       "AL         0.086328  0.098326  0.077170   0.111527  0.046948 -0.010278  \n",
       "ACD        0.071666  0.051826 -0.042761   0.040157  0.115974  0.053746  \n",
       "LT        -0.025344 -0.037580  0.049095   0.002875 -0.011127 -0.015586  \n",
       "VCD        0.069369  0.091759  0.082579   0.099774  0.009987 -0.025398  \n",
       "SPORTHR    0.010185  0.115844  0.173470   0.189365 -0.065167  0.002623  \n",
       "READHR     0.035300  0.262374  0.003092   0.697522 -0.040312  0.010341  \n",
       "COMPHR     1.000000  0.114161  0.129655   0.495171  0.036116  0.023954  \n",
       "STUDYHR    0.114161  1.000000  0.042798   0.624156 -0.040136 -0.008783  \n",
       "TVHR       0.129655  0.042798  1.000000   0.425694  0.009746 -0.019285  \n",
       "DIOPTERHR  0.495171  0.624156  0.425694   1.000000 -0.022542  0.004549  \n",
       "MOMMY      0.036116 -0.040136  0.009746  -0.022542  1.000000 -0.006431  \n",
       "DADMY      0.023954 -0.008783 -0.019285   0.004549 -0.006431  1.000000  "
      ]
     },
     "execution_count": 4,
     "metadata": {},
     "output_type": "execute_result"
    }
   ],
   "source": [
    "corr_data=df.corr()\n",
    "corr_data"
   ]
  },
  {
   "cell_type": "code",
   "execution_count": 5,
   "metadata": {
    "colab": {
     "base_uri": "https://localhost:8080/",
     "height": 536
    },
    "id": "jchQXfpoj7Ks",
    "outputId": "d5c12336-8a82-4540-9d47-6166d7261ea8"
   },
   "outputs": [
    {
     "data": {
      "image/png": "[encoded data removed]",
      "text/plain": [
       "<Figure size 1080x576 with 2 Axes>"
      ]
     },
     "metadata": {
      "needs_background": "light"
     },
     "output_type": "display_data"
    }
   ],
   "source": [
    "sns.heatmap(corr_data, annot=True,cmap=\"plasma\")\n",
    "plt.gcf().set_size_inches(15, 8)\n",
    "# plt.savefig(\"Asset/Images/heatmap.png\")\n",
    "plt.show()"
   ]
  },
  {
   "cell_type": "code",
   "execution_count": 6,
   "metadata": {
    "id": "Y-7inOKZTYZx"
   },
   "outputs": [],
   "source": [
    "#Split data into X and y\n",
    "X = df.drop(columns=[\"MYOPIC\", \"DIOPTERHR\",\"STUDYYEAR\" ])\n",
    "y = df[\"MYOPIC\"]"
   ]
  },
  {
   "cell_type": "code",
   "execution_count": 7,
   "metadata": {
    "colab": {
     "base_uri": "https://localhost:8080/",
     "height": 206
    },
    "id": "2iNGCHO8Tkwt",
    "outputId": "73ad90f7-ad0f-413b-d9af-9be79aed1b3c"
   },
   "outputs": [
    {
     "data": {
      "text/html": [
       "<div>\n",
       "<style scoped>\n",
       "    .dataframe tbody tr th:only-of-type {\n",
       "        vertical-align: middle;\n",
       "    }\n",
       "\n",
       "    .dataframe tbody tr th {\n",
       "        vertical-align: top;\n",
       "    }\n",
       "\n",
       "    .dataframe thead th {\n",
       "        text-align: right;\n",
       "    }\n",
       "</style>\n",
       "<table border=\"1\" class=\"dataframe\">\n",
       "  <thead>\n",
       "    <tr style=\"text-align: right;\">\n",
       "      <th></th>\n",
       "      <th>ID</th>\n",
       "      <th>AGE</th>\n",
       "      <th>GENDER</th>\n",
       "      <th>SPHEQ</th>\n",
       "      <th>AL</th>\n",
       "      <th>ACD</th>\n",
       "      <th>LT</th>\n",
       "      <th>VCD</th>\n",
       "      <th>SPORTHR</th>\n",
       "      <th>READHR</th>\n",
       "      <th>COMPHR</th>\n",
       "      <th>STUDYHR</th>\n",
       "      <th>TVHR</th>\n",
       "      <th>MOMMY</th>\n",
       "      <th>DADMY</th>\n",
       "    </tr>\n",
       "  </thead>\n",
       "  <tbody>\n",
       "    <tr>\n",
       "      <th>0</th>\n",
       "      <td>1</td>\n",
       "      <td>6</td>\n",
       "      <td>1</td>\n",
       "      <td>-0.052</td>\n",
       "      <td>21.89</td>\n",
       "      <td>3.690</td>\n",
       "      <td>3.498</td>\n",
       "      <td>14.70</td>\n",
       "      <td>45</td>\n",
       "      <td>8</td>\n",
       "      <td>0</td>\n",
       "      <td>0</td>\n",
       "      <td>10</td>\n",
       "      <td>1</td>\n",
       "      <td>1</td>\n",
       "    </tr>\n",
       "    <tr>\n",
       "      <th>1</th>\n",
       "      <td>2</td>\n",
       "      <td>6</td>\n",
       "      <td>1</td>\n",
       "      <td>0.608</td>\n",
       "      <td>22.38</td>\n",
       "      <td>3.702</td>\n",
       "      <td>3.392</td>\n",
       "      <td>15.29</td>\n",
       "      <td>4</td>\n",
       "      <td>0</td>\n",
       "      <td>1</td>\n",
       "      <td>1</td>\n",
       "      <td>7</td>\n",
       "      <td>1</td>\n",
       "      <td>1</td>\n",
       "    </tr>\n",
       "    <tr>\n",
       "      <th>2</th>\n",
       "      <td>3</td>\n",
       "      <td>6</td>\n",
       "      <td>1</td>\n",
       "      <td>1.179</td>\n",
       "      <td>22.49</td>\n",
       "      <td>3.462</td>\n",
       "      <td>3.514</td>\n",
       "      <td>15.52</td>\n",
       "      <td>14</td>\n",
       "      <td>0</td>\n",
       "      <td>2</td>\n",
       "      <td>0</td>\n",
       "      <td>10</td>\n",
       "      <td>0</td>\n",
       "      <td>0</td>\n",
       "    </tr>\n",
       "    <tr>\n",
       "      <th>3</th>\n",
       "      <td>4</td>\n",
       "      <td>6</td>\n",
       "      <td>1</td>\n",
       "      <td>0.525</td>\n",
       "      <td>22.20</td>\n",
       "      <td>3.862</td>\n",
       "      <td>3.612</td>\n",
       "      <td>14.73</td>\n",
       "      <td>18</td>\n",
       "      <td>11</td>\n",
       "      <td>0</td>\n",
       "      <td>0</td>\n",
       "      <td>4</td>\n",
       "      <td>0</td>\n",
       "      <td>1</td>\n",
       "    </tr>\n",
       "    <tr>\n",
       "      <th>4</th>\n",
       "      <td>5</td>\n",
       "      <td>5</td>\n",
       "      <td>0</td>\n",
       "      <td>0.697</td>\n",
       "      <td>23.29</td>\n",
       "      <td>3.676</td>\n",
       "      <td>3.454</td>\n",
       "      <td>16.16</td>\n",
       "      <td>14</td>\n",
       "      <td>0</td>\n",
       "      <td>0</td>\n",
       "      <td>0</td>\n",
       "      <td>4</td>\n",
       "      <td>1</td>\n",
       "      <td>0</td>\n",
       "    </tr>\n",
       "  </tbody>\n",
       "</table>\n",
       "</div>"
      ],
      "text/plain": [
       "   ID  AGE  GENDER  SPHEQ     AL    ACD     LT    VCD  SPORTHR  READHR  \\\n",
       "0   1    6       1 -0.052  21.89  3.690  3.498  14.70       45       8   \n",
       "1   2    6       1  0.608  22.38  3.702  3.392  15.29        4       0   \n",
       "2   3    6       1  1.179  22.49  3.462  3.514  15.52       14       0   \n",
       "3   4    6       1  0.525  22.20  3.862  3.612  14.73       18      11   \n",
       "4   5    5       0  0.697  23.29  3.676  3.454  16.16       14       0   \n",
       "\n",
       "   COMPHR  STUDYHR  TVHR  MOMMY  DADMY  \n",
       "0       0        0    10      1      1  \n",
       "1       1        1     7      1      1  \n",
       "2       2        0    10      0      0  \n",
       "3       0        0     4      0      1  \n",
       "4       0        0     4      1      0  "
      ]
     },
     "execution_count": 7,
     "metadata": {},
     "output_type": "execute_result"
    }
   ],
   "source": [
    "X.head()"
   ]
  },
  {
   "cell_type": "code",
   "execution_count": 8,
   "metadata": {
    "colab": {
     "base_uri": "https://localhost:8080/"
    },
    "id": "EZbFda92Tr9F",
    "outputId": "a20f065a-af78-4679-ddc4-53a7c89c82f8"
   },
   "outputs": [
    {
     "data": {
      "text/plain": [
       "0    1\n",
       "1    0\n",
       "2    0\n",
       "3    1\n",
       "4    0\n",
       "Name: MYOPIC, dtype: int64"
      ]
     },
     "execution_count": 8,
     "metadata": {},
     "output_type": "execute_result"
    }
   ],
   "source": [
    "y.head()"
   ]
  },
  {
   "cell_type": "markdown",
   "metadata": {
    "id": "-Xkw_jL5TuYC"
   },
   "source": [
    "Split the Data"
   ]
  },
  {
   "cell_type": "code",
   "execution_count": 9,
   "metadata": {
    "id": "d7CUw7tcTwAN"
   },
   "outputs": [],
   "source": [
    "# Split the data into X_train, X_test, y_train, y_test\n",
    "# X, y = make_classification(random_state=1)\n",
    "# X = pd.DataFrame(X)\n",
    "X_train, X_test, y_train, y_test = train_test_split(X, y, random_state=1, test_size=0.2)\n",
    "scaler = StandardScaler().fit(X_train)\n",
    "X_train_scaled = scaler.transform(X_train)\n",
    "X_test_scaled = scaler.transform(X_test)"
   ]
  },
  {
   "cell_type": "markdown",
   "metadata": {
    "id": "X5gW_kk8T1hm"
   },
   "source": [
    "BUILDING MODELS"
   ]
  },
  {
   "cell_type": "markdown",
   "metadata": {
    "id": "TnH0dtfAT5GP"
   },
   "source": [
    "1- RANDOM FOREST"
   ]
  },
  {
   "cell_type": "code",
   "execution_count": 10,
   "metadata": {
    "colab": {
     "base_uri": "https://localhost:8080/"
    },
    "id": "nOd6TBshT8KV",
    "outputId": "703fcc53-41f6-4e48-bbbc-b5bb3a02d5cb"
   },
   "outputs": [
    {
     "name": "stdout",
     "output_type": "stream",
     "text": [
      "Training Score: 1.0\n",
      "Testing Score: 0.9112903225806451\n"
     ]
    }
   ],
   "source": [
    "clf = RandomForestClassifier(random_state=1)\n",
    "clf.fit(X_train_scaled, y_train)\n",
    "print(f'Training Score: {clf.score(X_train_scaled, y_train)}')\n",
    "print(f'Testing Score: {clf.score(X_test_scaled, y_test)}')"
   ]
  },
  {
   "cell_type": "markdown",
   "metadata": {
    "id": "d9jun4XfUBLs"
   },
   "source": [
    "2 - LOGISTIC REGRESSION"
   ]
  },
  {
   "cell_type": "code",
   "execution_count": 11,
   "metadata": {
    "colab": {
     "base_uri": "https://localhost:8080/"
    },
    "id": "WDHJ26TPUDaY",
    "outputId": "8a01c4fe-26f6-4ca8-fe89-c509d2a8a423"
   },
   "outputs": [
    {
     "name": "stdout",
     "output_type": "stream",
     "text": [
      "Training Data Score: 0.8906882591093117\n",
      "Testing Score: 0.9274193548387096\n"
     ]
    }
   ],
   "source": [
    "classifier = LogisticRegression()\n",
    "classifier.fit(X_train_scaled, y_train)\n",
    "print(f\"Training Data Score: {classifier.score(X_train_scaled, y_train)}\")\n",
    "print(f'Testing Score: {classifier.score(X_test_scaled, y_test)}')"
   ]
  },
  {
   "cell_type": "code",
   "execution_count": 12,
   "metadata": {
    "colab": {
     "base_uri": "https://localhost:8080/"
    },
    "id": "w3Xuz9L2V89y",
    "outputId": "6d2716c3-77c2-463a-ba6c-139c652633f6"
   },
   "outputs": [
    {
     "data": {
      "text/plain": [
       "array([[110,   2],\n",
       "       [  7,   5]], dtype=int64)"
      ]
     },
     "execution_count": 12,
     "metadata": {},
     "output_type": "execute_result"
    }
   ],
   "source": [
    "from sklearn.metrics import confusion_matrix\n",
    "y_true = y_test\n",
    "# y_pred = classifier.predict(X_test)\n",
    "y_pred = classifier.predict(X_test_scaled)\n",
    "confusion_matrix(y_true, y_pred)\n",
    "# confusion_matrix(y, classifier.predict(X))"
   ]
  },
  {
   "cell_type": "code",
   "execution_count": 13,
   "metadata": {
    "colab": {
     "base_uri": "https://localhost:8080/",
     "height": 279
    },
    "id": "H1dMkHtFnyHr",
    "outputId": "6a98799e-da17-4a72-b9bc-42d50333a7f4"
   },
   "outputs": [
    {
     "data": {
      "image/png": "[encoded data removed]",
      "text/plain": [
       "<Figure size 432x288 with 2 Axes>"
      ]
     },
     "metadata": {
      "needs_background": "light"
     },
     "output_type": "display_data"
    }
   ],
   "source": [
    "import matplotlib.pyplot as plt\n",
    "import numpy\n",
    "from sklearn import metrics\n",
    "actual = y_test\n",
    "predicted = classifier.predict(X_test_scaled)\n",
    "confusion_matrix = metrics.confusion_matrix(actual, predicted)\n",
    "cm_display = metrics.ConfusionMatrixDisplay(confusion_matrix = confusion_matrix, display_labels = [False, True])\n",
    "cm_display.plot()\n",
    "plt.title(label = 'Logistic Rgression - Confusion Matrix (Model Score 92.7%)', \n",
    "         fontsize = 15, \n",
    "         fontweight = 20)\n",
    "plt.show()\n"
   ]
  },
  {
   "cell_type": "code",
   "execution_count": 14,
   "metadata": {
    "id": "ZW80Nq25y5Ye"
   },
   "outputs": [],
   "source": [
    "# from sklearn.metrics import balanced_accuracy_score\n",
    "# from sklearn.metrics import confusion_matrix\n",
    "# from imblearn.metrics import classification_report_imbalanced"
   ]
  },
  {
   "cell_type": "code",
   "execution_count": 15,
   "metadata": {
    "colab": {
     "base_uri": "https://localhost:8080/"
    },
    "id": "-EfNlA3zy-ur",
    "outputId": "c64e6912-1986-4f59-9ed3-16c1ea4a6c4d"
   },
   "outputs": [],
   "source": [
    "# balanced_accuracy_score(y_test, y_pred)"
   ]
  },
  {
   "cell_type": "code",
   "execution_count": 16,
   "metadata": {
    "colab": {
     "base_uri": "https://localhost:8080/"
    },
    "id": "SsypZYGozDEj",
    "outputId": "7fb9a24c-5954-4041-b2c0-bee1092b3014"
   },
   "outputs": [],
   "source": [
    "# print(classification_report_imbalanced(y_test, y_pred))"
   ]
  },
  {
   "cell_type": "code",
   "execution_count": 17,
   "metadata": {
    "id": "NcYmCkafzIze"
   },
   "outputs": [],
   "source": [
    "# importances = brf.feature_importances_\n",
    "# cols = X.columns\n",
    "\n",
    "# # Store in a DataFrame\n",
    "# feature_importances_df = pd.DataFrame({'feature':cols, 'importance': importances})\n",
    "\n",
    "# #sort dataframe\n",
    "# feature_importances_df.sort_values('importance', ascending=False)"
   ]
  },
  {
   "cell_type": "code",
   "execution_count": null,
   "metadata": {},
   "outputs": [],
   "source": []
  },
  {
   "cell_type": "code",
   "execution_count": null,
   "metadata": {},
   "outputs": [],
   "source": []
  },
  {
   "cell_type": "code",
   "execution_count": null,
   "metadata": {},
   "outputs": [],
   "source": []
  }
 ],
 "metadata": {
  "colab": {
   "name": "SupervisedLearning.ipynb",
   "provenance": []
  },
  "kernelspec": {
   "display_name": "Python 3",
   "language": "python",
   "name": "python3"
  },
  "language_info": {
   "codemirror_mode": {
    "name": "ipython",
    "version": 3
   },
   "file_extension": ".py",
   "mimetype": "text/x-python",
   "name": "python",
   "nbconvert_exporter": "python",
   "pygments_lexer": "ipython3",
   "version": "3.6.10"
  },
  "vscode": {
   "interpreter": {
    "hash": "b0fa6594d8f4cbf19f97940f81e996739fb7646882a419484c72d19e05852a7e"
   }
  }
 },
 "nbformat": 4,
 "nbformat_minor": 1
}

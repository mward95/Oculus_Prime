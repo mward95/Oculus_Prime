{
  "cells": [
    {
      "cell_type": "code",
      "execution_count": 1,
      "metadata": {
        "colab": {
          "base_uri": "https://localhost:8080/"
        },
        "id": "sJNdXG4EE8ZW",
        "outputId": "7f211ec3-aded-4798-bacf-ce8a3f625f95"
      },
      "outputs": [
        {
          "name": "stdout",
          "output_type": "stream",
          "text": [
            "Get:1 https://cloud.r-project.org/bin/linux/ubuntu bionic-cran40/ InRelease [3,626 B]\n",
            "Get:2 http://security.ubuntu.com/ubuntu bionic-security InRelease [88.7 kB]\n",
            "Ign:3 https://developer.download.nvidia.com/compute/machine-learning/repos/ubuntu1804/x86_64  InRelease\n",
            "Get:4 https://developer.download.nvidia.com/compute/cuda/repos/ubuntu1804/x86_64  InRelease [1,581 B]\n",
            "Hit:5 https://developer.download.nvidia.com/compute/machine-learning/repos/ubuntu1804/x86_64  Release\n",
            "Get:6 http://ppa.launchpad.net/c2d4u.team/c2d4u4.0+/ubuntu bionic InRelease [15.9 kB]\n",
            "Get:7 https://developer.download.nvidia.com/compute/cuda/repos/ubuntu1804/x86_64  Packages [910 kB]\n",
            "Hit:8 http://archive.ubuntu.com/ubuntu bionic InRelease\n",
            "Get:9 http://archive.ubuntu.com/ubuntu bionic-updates InRelease [88.7 kB]\n",
            "Hit:11 http://ppa.launchpad.net/cran/libgit2/ubuntu bionic InRelease\n",
            "Hit:12 http://ppa.launchpad.net/deadsnakes/ppa/ubuntu bionic InRelease\n",
            "Get:13 http://archive.ubuntu.com/ubuntu bionic-backports InRelease [74.6 kB]\n",
            "Get:14 http://security.ubuntu.com/ubuntu bionic-security/main amd64 Packages [2,937 kB]\n",
            "Hit:15 http://ppa.launchpad.net/graphics-drivers/ppa/ubuntu bionic InRelease\n",
            "Get:16 http://archive.ubuntu.com/ubuntu bionic-updates/universe amd64 Packages [2,311 kB]\n",
            "Get:17 http://ppa.launchpad.net/c2d4u.team/c2d4u4.0+/ubuntu bionic/main Sources [2,095 kB]\n",
            "Get:18 http://security.ubuntu.com/ubuntu bionic-security/universe amd64 Packages [1,533 kB]\n",
            "Get:19 http://archive.ubuntu.com/ubuntu bionic-updates/main amd64 Packages [3,369 kB]\n",
            "Get:20 http://ppa.launchpad.net/c2d4u.team/c2d4u4.0+/ubuntu bionic/main amd64 Packages [1,073 kB]\n",
            "Fetched 14.5 MB in 6s (2,402 kB/s)\n",
            "Reading package lists... Done\n"
          ]
        }
      ],
      "source": [
        "import os\n",
        "# Find the latest version of spark 3.0  from http://www.apache.org/dist/spark/ and enter as the spark version\n",
        "# For example:\n",
        "# spark_version = 'spark-3.0.3'\n",
        "spark_version = 'spark-3.2.2'\n",
        "os.environ['SPARK_VERSION']=spark_version\n",
        "\n",
        "# Install Spark and Java\n",
        "!apt-get update\n",
        "!apt-get install openjdk-8-jdk-headless -qq > /dev/null\n",
        "!wget -q http://www.apache.org/dist/spark/$SPARK_VERSION/$SPARK_VERSION-bin-hadoop2.7.tgz\n",
        "!tar xf $SPARK_VERSION-bin-hadoop2.7.tgz\n",
        "!pip install -q findspark\n",
        "\n",
        "# Set Environment Variables\n",
        "import os\n",
        "os.environ[\"JAVA_HOME\"] = \"/usr/lib/jvm/java-8-openjdk-amd64\"\n",
        "os.environ[\"SPARK_HOME\"] = f\"/content/{spark_version}-bin-hadoop2.7\"\n",
        "\n",
        "# Start a SparkSession\n",
        "import findspark\n",
        "findspark.init()"
      ]
    },
    {
      "cell_type": "code",
      "execution_count": 2,
      "metadata": {
        "colab": {
          "base_uri": "https://localhost:8080/"
        },
        "id": "CAce_gt6FXDm",
        "outputId": "6b535dbd-5c3e-45a2-d09d-de3261f7d859"
      },
      "outputs": [
        {
          "name": "stdout",
          "output_type": "stream",
          "text": [
            "--2022-08-22 01:05:50--  https://jdbc.postgresql.org/download/postgresql-42.2.9.jar\n",
            "Resolving jdbc.postgresql.org (jdbc.postgresql.org)... 72.32.157.228, 2001:4800:3e1:1::228\n",
            "Connecting to jdbc.postgresql.org (jdbc.postgresql.org)|72.32.157.228|:443... connected.\n",
            "HTTP request sent, awaiting response... 200 OK\n",
            "Length: 914037 (893K) [application/java-archive]\n",
            "Saving to: ‘postgresql-42.2.9.jar’\n",
            "\n",
            "postgresql-42.2.9.j 100%[===================>] 892.61K  1.26MB/s    in 0.7s    \n",
            "\n",
            "2022-08-22 01:05:51 (1.26 MB/s) - ‘postgresql-42.2.9.jar’ saved [914037/914037]\n",
            "\n"
          ]
        }
      ],
      "source": [
        "!wget https://jdbc.postgresql.org/download/postgresql-42.2.9.jar"
      ]
    },
    {
      "cell_type": "code",
      "execution_count": 3,
      "metadata": {
        "id": "lpxXEx-9FbEo"
      },
      "outputs": [],
      "source": [
        "from pyspark.sql import SparkSession\n",
        "spark = SparkSession.builder.appName(\"CloudETL\").config(\"spark.driver.extraClassPath\",\"/content/postgresql-42.2.9.jar\").getOrCreate()"
      ]
    },
    {
      "cell_type": "code",
      "execution_count": 6,
      "metadata": {
        "colab": {
          "base_uri": "https://localhost:8080/"
        },
        "id": "_n4k5P4AFgz1",
        "outputId": "4164aa64-249c-4e0f-eb91-cef71e8ce9d6"
      },
      "outputs": [
        {
          "name": "stdout",
          "output_type": "stream",
          "text": [
            "+---+---------+------+---+------+------+-----+-----+-----+-----+-------+------+------+-------+----+---------+-----+-----+\n",
            "| ID|STUDYYEAR|MYOPIC|AGE|GENDER| SPHEQ|   AL|  ACD|   LT|  VCD|SPORTHR|READHR|COMPHR|STUDYHR|TVHR|DIOPTERHR|MOMMY|DADMY|\n",
            "+---+---------+------+---+------+------+-----+-----+-----+-----+-------+------+------+-------+----+---------+-----+-----+\n",
            "|  1|     1992|     1|  6|     1|-0.052|21.89| 3.69|3.498| 14.7|     45|     8|     0|      0|  10|       34|    1|    1|\n",
            "|  2|     1995|     0|  6|     1| 0.608|22.38|3.702|3.392|15.29|      4|     0|     1|      1|   7|       12|    1|    1|\n",
            "|  3|     1991|     0|  6|     1| 1.179|22.49|3.462|3.514|15.52|     14|     0|     2|      0|  10|       14|    0|    0|\n",
            "|  4|     1990|     1|  6|     1| 0.525| 22.2|3.862|3.612|14.73|     18|    11|     0|      0|   4|       37|    0|    1|\n",
            "|  5|     1995|     0|  5|     0| 0.697|23.29|3.676|3.454|16.16|     14|     0|     0|      0|   4|        4|    1|    0|\n",
            "|  6|     1995|     0|  6|     0| 1.744|22.14|3.224|3.556|15.36|     10|     6|     2|      1|  19|       44|    0|    1|\n",
            "|  7|     1993|     0|  6|     1| 0.683|22.33|3.186|3.654|15.49|     12|     7|     2|      1|   8|       36|    0|    1|\n",
            "|  8|     1991|     0|  6|     1| 1.272|22.39|3.732|3.584|15.08|     12|     0|     0|      0|   8|        8|    0|    0|\n",
            "|  9|     1991|     0|  7|     0| 1.396|22.62|3.464|3.408|15.74|      4|     0|     3|      1|   3|       12|    0|    0|\n",
            "| 10|     1991|     0|  6|     1| 0.972|22.74|3.504|3.696|15.54|     30|     5|     1|      0|  10|       27|    0|    0|\n",
            "+---+---------+------+---+------+------+-----+-----+-----+-----+-------+------+------+-------+----+---------+-----+-----+\n",
            "only showing top 10 rows\n",
            "\n"
          ]
        }
      ],
      "source": [
        "from pyspark import SparkFiles\n",
        "# Load in employee.csv from S3 into a DataFrame\n",
        "url = \"https://myopia.s3.amazonaws.com/Copy_of_myopia.csv\"\n",
        "spark.sparkContext.addFile(url)\n",
        "\n",
        "df = spark.read.option('header', 'true').csv(SparkFiles.get(\"Copy_of_myopia.csv\"), inferSchema=True, sep=',', timestampFormat=\"mm/dd/yy\")\n",
        "df.show(10)"
      ]
    },
    {
      "cell_type": "markdown",
      "metadata": {
        "id": "G4GbWesFGuNI"
      },
      "source": [
        "Drop duplicates and incomplete rows"
      ]
    },
    {
      "cell_type": "code",
      "execution_count": 7,
      "metadata": {
        "colab": {
          "base_uri": "https://localhost:8080/"
        },
        "id": "Ukd1fy9wGxvK",
        "outputId": "73ba72f8-8f6b-44e4-da7c-a946fcd94a8f"
      },
      "outputs": [
        {
          "name": "stdout",
          "output_type": "stream",
          "text": [
            "618\n",
            "618\n",
            "618\n"
          ]
        }
      ],
      "source": [
        "print(df.count())\n",
        "df = df.dropna()\n",
        "print(df.count())\n",
        "df = df.dropDuplicates()\n",
        "print(df.count())"
      ]
    },
    {
      "cell_type": "markdown",
      "metadata": {
        "id": "0KJz2LMSG3yq"
      },
      "source": [
        "Examine the schema"
      ]
    },
    {
      "cell_type": "code",
      "execution_count": 8,
      "metadata": {
        "colab": {
          "base_uri": "https://localhost:8080/"
        },
        "id": "v16pFQznG55z",
        "outputId": "1909562d-0f45-4f5e-f106-838499138055"
      },
      "outputs": [
        {
          "name": "stdout",
          "output_type": "stream",
          "text": [
            "root\n",
            " |-- ID: integer (nullable = true)\n",
            " |-- STUDYYEAR: integer (nullable = true)\n",
            " |-- MYOPIC: integer (nullable = true)\n",
            " |-- AGE: integer (nullable = true)\n",
            " |-- GENDER: integer (nullable = true)\n",
            " |-- SPHEQ: double (nullable = true)\n",
            " |-- AL: double (nullable = true)\n",
            " |-- ACD: double (nullable = true)\n",
            " |-- LT: double (nullable = true)\n",
            " |-- VCD: double (nullable = true)\n",
            " |-- SPORTHR: integer (nullable = true)\n",
            " |-- READHR: integer (nullable = true)\n",
            " |-- COMPHR: integer (nullable = true)\n",
            " |-- STUDYHR: integer (nullable = true)\n",
            " |-- TVHR: integer (nullable = true)\n",
            " |-- DIOPTERHR: integer (nullable = true)\n",
            " |-- MOMMY: integer (nullable = true)\n",
            " |-- DADMY: integer (nullable = true)\n",
            "\n"
          ]
        }
      ],
      "source": [
        "df.printSchema()"
      ]
    },
    {
      "cell_type": "markdown",
      "metadata": {
        "id": "U0vrhhwSHMET"
      },
      "source": [
        "Write DataFrame to RDS"
      ]
    },
    {
      "cell_type": "code",
      "execution_count": 9,
      "metadata": {
        "id": "-RGgmY8dHQhc"
      },
      "outputs": [],
      "source": [
        "# Configuration for RDS instance\n",
        "mode=\"append\"\n",
        "jdbc_url = \"jdbc:postgresql://<insert endpoint>/postgres\"\n",
        "config = {\"user\":\"postgres\",\n",
        "          \"password\": \"<insert password>\",\n",
        "          \"driver\":\"org.postgresql.Driver\"}"
      ]
    },
    {
      "cell_type": "code",
      "execution_count": 10,
      "metadata": {
        "id": "uVPA5fn0JkQe"
      },
      "outputs": [],
      "source": [
        "# Write DataFrame to table\n",
        "\n",
        "df.write.jdbc(url=jdbc_url, table='myopia_data', mode=mode, properties=config)"
      ]
    },
    {
      "cell_type": "markdown",
      "metadata": {
        "id": "06XcNmKSKZhV"
      },
      "source": [
        "Supervised Learning"
      ]
    },
    {
      "cell_type": "code",
      "execution_count": 12,
      "metadata": {
        "id": "71HzmoHvKcjX"
      },
      "outputs": [],
      "source": [
        "#Split data into X and y\n",
        "X = df.drop(\"MYOPIC\")\n",
        "y = df[\"MYOPIC\"]"
      ]
    },
    {
      "cell_type": "code",
      "execution_count": 18,
      "metadata": {
        "colab": {
          "base_uri": "https://localhost:8080/"
        },
        "id": "5VIeDoJkK6TE",
        "outputId": "e3f4f061-44c0-45b5-920c-250bcf0e58d2"
      },
      "outputs": [
        {
          "name": "stdout",
          "output_type": "stream",
          "text": [
            "DataFrame[ID: int, STUDYYEAR: int, AGE: int, GENDER: int, SPHEQ: double, AL: double, ACD: double, LT: double, VCD: double, SPORTHR: int, READHR: int, COMPHR: int, STUDYHR: int, TVHR: int, DIOPTERHR: int, MOMMY: int, DADMY: int]\n"
          ]
        }
      ],
      "source": [
        "print (X)"
      ]
    },
    {
      "cell_type": "code",
      "execution_count": 16,
      "metadata": {
        "colab": {
          "base_uri": "https://localhost:8080/"
        },
        "id": "JvSpJJspLLQ_",
        "outputId": "37869127-b0b2-4faf-b0c1-2f3999141a62"
      },
      "outputs": [
        {
          "data": {
            "text/plain": [
              "Column<'MYOPIC[head]'>"
            ]
          },
          "execution_count": 16,
          "metadata": {},
          "output_type": "execute_result"
        }
      ],
      "source": [
        "y.head"
      ]
    },
    {
      "cell_type": "markdown",
      "metadata": {
        "id": "136cj494LmQE"
      },
      "source": [
        "Split the dataset"
      ]
    },
    {
      "cell_type": "code",
      "execution_count": 20,
      "metadata": {
        "id": "YDhxrYdxLiKn"
      },
      "outputs": [],
      "source": [
        "# Split the data into X_train, X_test, y_train, y_test\n",
        "# X, y = make_classification(random_state=1)\n",
        "# X = pd.DataFrame(X)\n",
        "# X_train, X_test, y_train, y_test = train_test_split(X, y, random_state=1)\n",
        "# scaler = StandardScaler().fit(X_train)\n",
        "# X_train_scaled = scaler.transform(X_train)\n",
        "# X_test_scaled = scaler.transform(X_test)"
      ]
    }
  ],
  "metadata": {
    "colab": {
      "name": "Myopia.ipynb",
      "provenance": []
    },
    "kernelspec": {
      "display_name": "Python 3",
      "name": "python3"
    },
    "language_info": {
      "name": "python"
    }
  },
  "nbformat": 4,
  "nbformat_minor": 0
}

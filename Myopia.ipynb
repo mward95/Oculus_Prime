{
  "cells": [
    {
      "cell_type": "code",
      "execution_count": null,
      "metadata": {
        "colab": {
          "base_uri": "https://localhost:8080/"
        },
        "id": "sJNdXG4EE8ZW",
        "outputId": "2f38978c-a23f-43db-d1ba-5150c6aff11c"
      },
      "outputs": [
        {
          "output_type": "stream",
          "name": "stdout",
          "text": [
            "\r0% [Working]\r            \rGet:1 http://ppa.launchpad.net/c2d4u.team/c2d4u4.0+/ubuntu bionic InRelease [15.9 kB]\n",
            "\r0% [Connecting to archive.ubuntu.com (91.189.91.39)] [Connecting to security.ub\r0% [Connecting to archive.ubuntu.com (91.189.91.39)] [Connecting to security.ub\r0% [1 InRelease gpgv 15.9 kB] [Connecting to archive.ubuntu.com (91.189.91.39)]\r                                                                               \rHit:2 http://ppa.launchpad.net/cran/libgit2/ubuntu bionic InRelease\n",
            "\r0% [1 InRelease gpgv 15.9 kB] [Connecting to archive.ubuntu.com (91.189.91.39)]\r                                                                               \rGet:3 https://cloud.r-project.org/bin/linux/ubuntu bionic-cran40/ InRelease [3,626 B]\n",
            "\r0% [1 InRelease gpgv 15.9 kB] [Connecting to archive.ubuntu.com (91.189.91.39)]\r0% [1 InRelease gpgv 15.9 kB] [Connecting to archive.ubuntu.com (91.189.91.39)]\r                                                                               \rHit:4 http://ppa.launchpad.net/deadsnakes/ppa/ubuntu bionic InRelease\n",
            "\r0% [1 InRelease gpgv 15.9 kB] [Connecting to archive.ubuntu.com (91.189.91.39)]\r                                                                               \rHit:5 http://ppa.launchpad.net/graphics-drivers/ppa/ubuntu bionic InRelease\n",
            "\r0% [1 InRelease gpgv 15.9 kB] [Waiting for headers] [Waiting for headers] [Wait\r                                                                               \rGet:6 http://security.ubuntu.com/ubuntu bionic-security InRelease [88.7 kB]\n",
            "\r0% [1 InRelease gpgv 15.9 kB] [Waiting for headers] [6 InRelease 14.2 kB/88.7 k\r                                                                               \rHit:7 http://archive.ubuntu.com/ubuntu bionic InRelease\n",
            "Get:8 http://archive.ubuntu.com/ubuntu bionic-updates InRelease [88.7 kB]\n",
            "Get:9 http://ppa.launchpad.net/c2d4u.team/c2d4u4.0+/ubuntu bionic/main Sources [2,093 kB]\n",
            "Get:10 http://ppa.launchpad.net/c2d4u.team/c2d4u4.0+/ubuntu bionic/main amd64 Packages [1,073 kB]\n",
            "Get:11 http://archive.ubuntu.com/ubuntu bionic-backports InRelease [74.6 kB]\n",
            "Ign:12 https://developer.download.nvidia.com/compute/machine-learning/repos/ubuntu1804/x86_64  InRelease\n",
            "Get:13 https://developer.download.nvidia.com/compute/cuda/repos/ubuntu1804/x86_64  InRelease [1,581 B]\n",
            "Hit:14 https://developer.download.nvidia.com/compute/machine-learning/repos/ubuntu1804/x86_64  Release\n",
            "Get:15 https://cloud.r-project.org/bin/linux/ubuntu bionic-cran40/ Packages [91.1 kB]\n",
            "Get:16 http://security.ubuntu.com/ubuntu bionic-security/main amd64 Packages [2,938 kB]\n",
            "Get:17 http://archive.ubuntu.com/ubuntu bionic-updates/universe amd64 Packages [2,311 kB]\n",
            "Get:18 https://developer.download.nvidia.com/compute/cuda/repos/ubuntu1804/x86_64  Packages [912 kB]\n",
            "Get:19 http://security.ubuntu.com/ubuntu bionic-security/universe amd64 Packages [1,534 kB]\n",
            "Get:20 http://archive.ubuntu.com/ubuntu bionic-updates/main amd64 Packages [3,369 kB]\n",
            "Fetched 14.6 MB in 4s (3,742 kB/s)\n",
            "Reading package lists... Done\n"
          ]
        }
      ],
      "source": [
        "import os\n",
        "# Find the latest version of spark 3.0  from http://www.apache.org/dist/spark/ and enter as the spark version\n",
        "# For example:\n",
        "# spark_version = 'spark-3.0.3'\n",
        "spark_version = 'spark-3.2.2'\n",
        "os.environ['SPARK_VERSION']=spark_version\n",
        "\n",
        "# Install Spark and Java\n",
        "!apt-get update\n",
        "!apt-get install openjdk-8-jdk-headless -qq > /dev/null\n",
        "!wget -q http://www.apache.org/dist/spark/$SPARK_VERSION/$SPARK_VERSION-bin-hadoop2.7.tgz\n",
        "!tar xf $SPARK_VERSION-bin-hadoop2.7.tgz\n",
        "!pip install -q findspark\n",
        "\n",
        "# Set Environment Variables\n",
        "import os\n",
        "os.environ[\"JAVA_HOME\"] = \"/usr/lib/jvm/java-8-openjdk-amd64\"\n",
        "os.environ[\"SPARK_HOME\"] = f\"/content/{spark_version}-bin-hadoop2.7\"\n",
        "\n",
        "# Start a SparkSession\n",
        "import findspark\n",
        "findspark.init()"
      ]
    },
    {
      "cell_type": "code",
      "execution_count": null,
      "metadata": {
        "colab": {
          "base_uri": "https://localhost:8080/"
        },
        "id": "CAce_gt6FXDm",
        "outputId": "f73b79f7-da7a-4eb7-983f-95fcb731428a"
      },
      "outputs": [
        {
          "output_type": "stream",
          "name": "stdout",
          "text": [
            "--2022-08-29 00:49:16--  https://jdbc.postgresql.org/download/postgresql-42.2.9.jar\n",
            "Resolving jdbc.postgresql.org (jdbc.postgresql.org)... 72.32.157.228, 2001:4800:3e1:1::228\n",
            "Connecting to jdbc.postgresql.org (jdbc.postgresql.org)|72.32.157.228|:443... connected.\n",
            "HTTP request sent, awaiting response... 200 OK\n",
            "Length: 914037 (893K) [application/java-archive]\n",
            "Saving to: ‘postgresql-42.2.9.jar’\n",
            "\n",
            "postgresql-42.2.9.j 100%[===================>] 892.61K  1.45MB/s    in 0.6s    \n",
            "\n",
            "2022-08-29 00:49:17 (1.45 MB/s) - ‘postgresql-42.2.9.jar’ saved [914037/914037]\n",
            "\n"
          ]
        }
      ],
      "source": [
        "!wget https://jdbc.postgresql.org/download/postgresql-42.2.9.jar"
      ]
    },
    {
      "cell_type": "code",
      "execution_count": null,
      "metadata": {
        "id": "lpxXEx-9FbEo"
      },
      "outputs": [],
      "source": [
        "from pyspark.sql import SparkSession\n",
        "spark = SparkSession.builder.appName(\"CloudETL\").config(\"spark.driver.extraClassPath\",\"/content/postgresql-42.2.9.jar\").getOrCreate()"
      ]
    },
    {
      "cell_type": "code",
      "execution_count": null,
      "metadata": {
        "colab": {
          "base_uri": "https://localhost:8080/"
        },
        "id": "_n4k5P4AFgz1",
        "outputId": "a137216f-b04c-4e0b-df29-c23873cfe811"
      },
      "outputs": [
        {
          "output_type": "stream",
          "name": "stdout",
          "text": [
            "+---+---------+------+---+------+------+-----+-----+-----+-----+-------+------+------+-------+----+---------+-----+-----+\n",
            "| ID|STUDYYEAR|MYOPIC|AGE|GENDER| SPHEQ|   AL|  ACD|   LT|  VCD|SPORTHR|READHR|COMPHR|STUDYHR|TVHR|DIOPTERHR|MOMMY|DADMY|\n",
            "+---+---------+------+---+------+------+-----+-----+-----+-----+-------+------+------+-------+----+---------+-----+-----+\n",
            "|  1|     1992|     1|  6|     1|-0.052|21.89| 3.69|3.498| 14.7|     45|     8|     0|      0|  10|       34|    1|    1|\n",
            "|  2|     1995|     0|  6|     1| 0.608|22.38|3.702|3.392|15.29|      4|     0|     1|      1|   7|       12|    1|    1|\n",
            "|  3|     1991|     0|  6|     1| 1.179|22.49|3.462|3.514|15.52|     14|     0|     2|      0|  10|       14|    0|    0|\n",
            "|  4|     1990|     1|  6|     1| 0.525| 22.2|3.862|3.612|14.73|     18|    11|     0|      0|   4|       37|    0|    1|\n",
            "|  5|     1995|     0|  5|     0| 0.697|23.29|3.676|3.454|16.16|     14|     0|     0|      0|   4|        4|    1|    0|\n",
            "|  6|     1995|     0|  6|     0| 1.744|22.14|3.224|3.556|15.36|     10|     6|     2|      1|  19|       44|    0|    1|\n",
            "|  7|     1993|     0|  6|     1| 0.683|22.33|3.186|3.654|15.49|     12|     7|     2|      1|   8|       36|    0|    1|\n",
            "|  8|     1991|     0|  6|     1| 1.272|22.39|3.732|3.584|15.08|     12|     0|     0|      0|   8|        8|    0|    0|\n",
            "|  9|     1991|     0|  7|     0| 1.396|22.62|3.464|3.408|15.74|      4|     0|     3|      1|   3|       12|    0|    0|\n",
            "| 10|     1991|     0|  6|     1| 0.972|22.74|3.504|3.696|15.54|     30|     5|     1|      0|  10|       27|    0|    0|\n",
            "+---+---------+------+---+------+------+-----+-----+-----+-----+-------+------+------+-------+----+---------+-----+-----+\n",
            "only showing top 10 rows\n",
            "\n"
          ]
        }
      ],
      "source": [
        "from pyspark import SparkFiles\n",
        "# Load in CSV from S3 into a DataFrame\n",
        "url = \"https://myopia.s3.amazonaws.com/Copy_of_myopia.csv\"\n",
        "spark.sparkContext.addFile(url)\n",
        "\n",
        "df = spark.read.option('header', 'true').csv(SparkFiles.get(\"Copy_of_myopia.csv\"), inferSchema=True, sep=',', timestampFormat=\"mm/dd/yy\")\n",
        "df.show(10)"
      ]
    },
    {
      "cell_type": "markdown",
      "metadata": {
        "id": "G4GbWesFGuNI"
      },
      "source": [
        "Drop duplicates and incomplete rows"
      ]
    },
    {
      "cell_type": "code",
      "execution_count": null,
      "metadata": {
        "colab": {
          "base_uri": "https://localhost:8080/"
        },
        "id": "Ukd1fy9wGxvK",
        "outputId": "fb3bc531-26f5-4cf9-e4bf-b1c3af160bea"
      },
      "outputs": [
        {
          "output_type": "stream",
          "name": "stdout",
          "text": [
            "618\n",
            "618\n",
            "618\n"
          ]
        }
      ],
      "source": [
        "print(df.count())\n",
        "df = df.dropna()\n",
        "print(df.count())\n",
        "df = df.dropDuplicates()\n",
        "print(df.count())"
      ]
    },
    {
      "cell_type": "markdown",
      "metadata": {
        "id": "0KJz2LMSG3yq"
      },
      "source": [
        "Examine the schema"
      ]
    },
    {
      "cell_type": "code",
      "execution_count": null,
      "metadata": {
        "colab": {
          "base_uri": "https://localhost:8080/"
        },
        "id": "v16pFQznG55z",
        "outputId": "0780e47b-5de9-4787-b707-67d186c86462"
      },
      "outputs": [
        {
          "output_type": "stream",
          "name": "stdout",
          "text": [
            "root\n",
            " |-- ID: integer (nullable = true)\n",
            " |-- STUDYYEAR: integer (nullable = true)\n",
            " |-- MYOPIC: integer (nullable = true)\n",
            " |-- AGE: integer (nullable = true)\n",
            " |-- GENDER: integer (nullable = true)\n",
            " |-- SPHEQ: double (nullable = true)\n",
            " |-- AL: double (nullable = true)\n",
            " |-- ACD: double (nullable = true)\n",
            " |-- LT: double (nullable = true)\n",
            " |-- VCD: double (nullable = true)\n",
            " |-- SPORTHR: integer (nullable = true)\n",
            " |-- READHR: integer (nullable = true)\n",
            " |-- COMPHR: integer (nullable = true)\n",
            " |-- STUDYHR: integer (nullable = true)\n",
            " |-- TVHR: integer (nullable = true)\n",
            " |-- DIOPTERHR: integer (nullable = true)\n",
            " |-- MOMMY: integer (nullable = true)\n",
            " |-- DADMY: integer (nullable = true)\n",
            "\n"
          ]
        }
      ],
      "source": [
        "df.printSchema()"
      ]
    },
    {
      "cell_type": "code",
      "execution_count": null,
      "metadata": {
        "id": "1Dlah4awEV1V"
      },
      "outputs": [],
      "source": [
        "#save dataframe into json \n",
        "df.write.json(\"users_json.json\")"
      ]
    },
    {
      "cell_type": "markdown",
      "metadata": {
        "id": "U0vrhhwSHMET"
      },
      "source": [
        "Write DataFrame to RDS"
      ]
    },
    {
      "cell_type": "code",
      "execution_count": null,
      "metadata": {
        "id": "-RGgmY8dHQhc"
      },
      "outputs": [],
      "source": [
        "# Configuration for RDS instance\n",
        "mode=\"append\"\n",
        "jdbc_url = \"jdbc:postgresql://<insert endpoint>/postgres\"\n",
        "config = {\"user\":\"postgres\",\n",
        "          \"password\": \"<insert password>\",\n",
        "          \"driver\":\"org.postgresql.Driver\"}"
      ]
    },
    {
      "cell_type": "code",
      "execution_count": null,
      "metadata": {
        "id": "uVPA5fn0JkQe"
      },
      "outputs": [],
      "source": [
        "# Write DataFrame to table\n",
        "\n",
        "df.write.jdbc(url=jdbc_url, table='myopia_data', mode=mode, properties=config)"
      ]
    }
  ],
  "metadata": {
    "colab": {
      "name": "Myopia.ipynb",
      "provenance": [],
      "collapsed_sections": []
    },
    "kernelspec": {
      "display_name": "Python 3.9.13 64-bit",
      "language": "python",
      "name": "python3"
    },
    "language_info": {
      "name": "python",
      "version": "3.9.13"
    },
    "vscode": {
      "interpreter": {
        "hash": "b0fa6594d8f4cbf19f97940f81e996739fb7646882a419484c72d19e05852a7e"
      }
    }
  },
  "nbformat": 4,
  "nbformat_minor": 0
}